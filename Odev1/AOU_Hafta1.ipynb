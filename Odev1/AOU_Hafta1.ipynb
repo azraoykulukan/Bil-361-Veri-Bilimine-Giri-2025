{
  "nbformat": 4,
  "nbformat_minor": 0,
  "metadata": {
    "colab": {
      "provenance": []
    },
    "kernelspec": {
      "name": "python3",
      "display_name": "Python 3"
    },
    "language_info": {
      "name": "python"
    }
  },
  "cells": [
    {
      "cell_type": "code",
      "source": [
        "def selam():\n",
        "  print(\"selam\")"
      ],
      "metadata": {
        "id": "nuldRPv1wfHS"
      },
      "execution_count": 28,
      "outputs": []
    },
    {
      "cell_type": "code",
      "source": [
        "def selamGotur(isim):\n",
        "  print(\"selam\",isim)\n",
        "selamGotur(\"azra\") #parametre alan değer döndürmeyen\n",
        "def topla():\n",
        "  print(\"toplama yapan fonks.\")"
      ],
      "metadata": {
        "colab": {
          "base_uri": "https://localhost:8080/"
        },
        "id": "cx3TvrYXwspC",
        "outputId": "46f6a915-4c13-4649-f7a8-ea68daf2190d"
      },
      "execution_count": 29,
      "outputs": [
        {
          "output_type": "stream",
          "name": "stdout",
          "text": [
            "selam azra\n"
          ]
        }
      ]
    },
    {
      "cell_type": "code",
      "source": [
        "def topla(a,b):\n",
        "  c=a+b\n",
        "  return c\n",
        "\n",
        "sonuc = topla(3,5)\n",
        "print(\"Sonuç: {}\".format(sonuc))"
      ],
      "metadata": {
        "colab": {
          "base_uri": "https://localhost:8080/"
        },
        "id": "qg1UJINdxD3i",
        "outputId": "ef2d50b7-87fb-4deb-d0a9-f2771c8b1c54"
      },
      "execution_count": 30,
      "outputs": [
        {
          "output_type": "stream",
          "name": "stdout",
          "text": [
            "Sonuç: 8\n"
          ]
        }
      ]
    },
    {
      "cell_type": "code",
      "source": [
        "class Isci():\n",
        "    yas=20\n",
        "    maas=1000\n",
        "    def yasaGoreMaasOranla(self):\n",
        "        print(self.yas/self.maas)\n",
        "\n",
        "isci1=Isci()\n",
        "isci1.yasaGoreMaasOranla()\n",
        "\n",
        "def yasMaasOranı(yas,maas): #class dışı metot\n",
        "    a=yas/maas\n",
        "    #print(\"oran:\\t\",a)\n",
        "    print(\"oran:\\t {}\".format(a))\n",
        "yasMaasOranı(20,2000)"
      ],
      "metadata": {
        "colab": {
          "base_uri": "https://localhost:8080/"
        },
        "id": "wXD_Fvwfx3AF",
        "outputId": "3639213c-493b-499b-8f42-f62a183b41af"
      },
      "execution_count": 31,
      "outputs": [
        {
          "output_type": "stream",
          "name": "stdout",
          "text": [
            "0.02\n",
            "oran:\t 0.01\n"
          ]
        }
      ]
    },
    {
      "cell_type": "code",
      "source": [
        "class Hayvan():\n",
        "    def __init__(self,isim,yas): #yapıcı/constructor metot\n",
        "        self.isim=isim\n",
        "        self.yas=yas\n",
        "    def getYas(self):\n",
        "        return self.yas\n",
        "    def getAd(self):\n",
        "        return self.isim\n",
        "h1=Hayvan(\"dog\",2)\n",
        "h1_yas=h1.getYas()\n",
        "print(\"h1 in yaşı :\",h1_yas)\n",
        "\n",
        "h1_isim=h1.getAd()\n",
        "print(\"h1 in isim :\",h1_isim)\n",
        "\n",
        "h2=Hayvan(\"cat\",3)\n",
        "h2_yas=h2.getYas()\n",
        "print(\"h2 in yaşı :\",h2_yas)"
      ],
      "metadata": {
        "colab": {
          "base_uri": "https://localhost:8080/"
        },
        "id": "M7bWsxnM0mcZ",
        "outputId": "6ca5785b-b8f2-4201-9139-5b434839311a"
      },
      "execution_count": 32,
      "outputs": [
        {
          "output_type": "stream",
          "name": "stdout",
          "text": [
            "h1 in yaşı : 2\n",
            "h1 in isim : dog\n",
            "h2 in yaşı : 3\n"
          ]
        }
      ]
    },
    {
      "cell_type": "code",
      "source": [
        "# -*- coding: utf-8 -*-\n",
        "\"\"\"\n",
        "OOP ile Hesap makinesi\n",
        "@author: msinan\n",
        "\"\"\"\n",
        "class Makine():\n",
        "    \"\"\"hesap makinesi\"\"\"\n",
        "    def __init__(self,a,b):\n",
        "        \"\"\"başlangıç değerlerini ayarlar\"\"\"\n",
        "        #öznitelik alır\n",
        "        self.deger1=a\n",
        "        self.deger2=b\n",
        "    def topla(self):\n",
        "        \"\"\" toplama a+b = sonuc -> return sonucs\"\"\"\n",
        "        sonuc=self.deger1+self.deger2\n",
        "        return sonuc\n",
        "    def carp(self):\n",
        "        \"\"\"carpma a*b= sonuc -> return sonuc\"\"\"\n",
        "        sonuc=self.deger1*self.deger2\n",
        "        return sonuc\n",
        "    def cikar(self):\n",
        "        return self.deger1-self.deger2\n",
        "    def bol(self):\n",
        "        return self.deger1/self.deger2\n",
        "x=5\n",
        "y=2\n",
        "h: Makine=Makine(x,y)\n",
        "tSonuc=h.topla()\n",
        "cSonuc=h.carp()\n",
        "print(\"toplama sonuc: {}, çarpma sonucu: {}\".format(tSonuc,cSonuc))"
      ],
      "metadata": {
        "colab": {
          "base_uri": "https://localhost:8080/"
        },
        "id": "-ySuYjRb42mJ",
        "outputId": "bddc8cb7-70b3-437b-a319-c315d870631e"
      },
      "execution_count": 33,
      "outputs": [
        {
          "output_type": "stream",
          "name": "stdout",
          "text": [
            "toplama sonuc: 7, çarpma sonucu: 10\n"
          ]
        }
      ]
    },
    {
      "cell_type": "code",
      "source": [
        "class Hayvanlar:\n",
        "    def __init__(self, isim):\n",
        "        self.isim = isim\n",
        "    def tepki(self):\n",
        "        raise NotImplementedError('HATA')\n",
        "class Kedi(Hayvanlar):\n",
        "    def tepki(self):\n",
        "        return 'Miyav!'\n",
        "class Kopek(Hayvanlar):\n",
        "    def tepki(self):\n",
        "        return 'Haav! Hav!'\n",
        "hayvan = [Kedi('Boncuk'),\n",
        "          Kedi('Tekir'),\n",
        "          Kopek('Elmas')]\n",
        "for hyvn in hayvan:\n",
        "    print(hyvn.isim + ': ' + hyvn.tepki())"
      ],
      "metadata": {
        "colab": {
          "base_uri": "https://localhost:8080/"
        },
        "id": "gVU28hqM4-15",
        "outputId": "a8adab7f-7a05-4bb5-f316-18e4f92e6610"
      },
      "execution_count": 34,
      "outputs": [
        {
          "output_type": "stream",
          "name": "stdout",
          "text": [
            "Boncuk: Miyav!\n",
            "Tekir: Miyav!\n",
            "Elmas: Haav! Hav!\n"
          ]
        }
      ]
    },
    {
      "cell_type": "code",
      "metadata": {
        "colab": {
          "base_uri": "https://localhost:8080/"
        },
        "id": "285acc23",
        "outputId": "180dd549-560a-43ba-e917-552590592355"
      },
      "source": [
        "class Insan():\n",
        "    \"\"\"İnsan sınıfı\"\"\"\n",
        "    def __init__(self, ad, yas):\n",
        "        \"\"\"Yapıcı metot: adı ve yaşı ayarlar\"\"\"\n",
        "        self.ad = ad\n",
        "        self.yas = yas\n",
        "\n",
        "    def konus(self):\n",
        "        \"\"\"Genel konuşma metodu\"\"\"\n",
        "        print(f\"{self.ad} konuşuyor.\")\n",
        "\n",
        "class Hoca(Insan):\n",
        "    \"\"\"Hoca sınıfı, Insan sınıfından miras alır\"\"\"\n",
        "    def __init__(self, ad, yas, sicil_no):\n",
        "        \"\"\"Yapıcı metot: adı, yaşı ve sicil numarasını ayarlar\"\"\"\n",
        "        super().__init__(ad, yas)\n",
        "        self.sicil_no = sicil_no\n",
        "\n",
        "    def konus(self):\n",
        "        \"\"\"Hoca'ya özgü konuşma metodu\"\"\"\n",
        "        print(f\"Hoca {self.ad} ders hakkında konuşuyor.\")\n",
        "\n",
        "    def ders_ver(self):\n",
        "        \"\"\"Ders verme metodu\"\"\"\n",
        "        print(f\"Hoca {self.ad} ders veriyor.\")\n",
        "\n",
        "class Sekreter(Insan):\n",
        "    \"\"\"Sekreter sınıfı, Insan sınıfından miras alır\"\"\"\n",
        "    def __init__(self, ad, yas, departman):\n",
        "        \"\"\"Yapıcı metot: adı, yaşı ve departmanı ayarlar\"\"\"\n",
        "        super().__init__(ad, yas)\n",
        "        self.departman = departman\n",
        "\n",
        "    def konus(self):\n",
        "        \"\"\"Sekreter'e özgü konuşma metodu\"\"\"\n",
        "        print(f\"Sekreter {self.ad} telefonlara bakıyor.\")\n",
        "\n",
        "    def dosya_hazirla(self):\n",
        "        \"\"\"Dosya hazırlama metodu\"\"\"\n",
        "        print(f\"Sekreter {self.ad} dosya hazırlıyor.\")\n",
        "\n",
        "class Ogrenci(Insan):\n",
        "    \"\"\"Öğrenci sınıfı, Insan sınıfından miras alır\"\"\"\n",
        "    def __init__(self, ad, yas, ogrenci_no):\n",
        "        \"\"\"Yapıcı metot: adı, yaşı ve öğrenci numarasını ayarlar\"\"\"\n",
        "        super().__init__(ad, yas)\n",
        "        self.ogrenci_no = ogrenci_no\n",
        "\n",
        "    def konus(self):\n",
        "        \"\"\"Öğrenciye özgü konuşma metodu\"\"\"\n",
        "        print(f\"Öğrenci {self.ad} ders çalışıyor.\")\n",
        "\n",
        "    def sinava_gir(self):\n",
        "        \"\"\"Sınava girme metodu\"\"\"\n",
        "        print(f\"Öğrenci {self.ad} sınava giriyor.\")\n",
        "\n",
        "# Örnek kullanımlar\n",
        "hoca1 = Hoca(\"Ahmet\", 45, \"12345\")\n",
        "sekreter1 = Sekreter(\"Ayşe\", 30, \"Öğrenci İşleri\")\n",
        "ogrenci1 = Ogrenci(\"Mehmet\", 22, \"2019001\")\n",
        "\n",
        "hoca1.konus()\n",
        "hoca1.ders_ver()\n",
        "\n",
        "sekreter1.konus()\n",
        "sekreter1.dosya_hazirla()\n",
        "\n",
        "ogrenci1.konus()\n",
        "ogrenci1.sinava_gir()"
      ],
      "execution_count": 35,
      "outputs": [
        {
          "output_type": "stream",
          "name": "stdout",
          "text": [
            "Hoca Ahmet ders hakkında konuşuyor.\n",
            "Hoca Ahmet ders veriyor.\n",
            "Sekreter Ayşe telefonlara bakıyor.\n",
            "Sekreter Ayşe dosya hazırlıyor.\n",
            "Öğrenci Mehmet ders çalışıyor.\n",
            "Öğrenci Mehmet sınava giriyor.\n"
          ]
        }
      ]
    }
  ]
}