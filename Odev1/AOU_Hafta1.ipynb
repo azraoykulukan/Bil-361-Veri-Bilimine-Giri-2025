{
  "nbformat": 4,
  "nbformat_minor": 0,
  "metadata": {
    "colab": {
      "provenance": []
    },
    "kernelspec": {
      "name": "python3",
      "display_name": "Python 3"
    },
    "language_info": {
      "name": "python"
    }
  },
  "cells": [
    {
      "cell_type": "code",
      "source": [
        "def selam():\n",
        "  print(\"selam\")"
      ],
      "metadata": {
        "id": "nuldRPv1wfHS"
      },
      "execution_count": 7,
      "outputs": []
    },
    {
      "cell_type": "code",
      "source": [
        "def selamGotur(isim):\n",
        "  print(\"selam\",isim)\n",
        "selamGotur(\"azra\") #parametre alan değer döndürmeyen\n",
        "def topla():\n",
        "  print(\"toplama yapan fonks.\")"
      ],
      "metadata": {
        "colab": {
          "base_uri": "https://localhost:8080/"
        },
        "id": "cx3TvrYXwspC",
        "outputId": "12468e94-f8b8-4ec7-eecc-98cc451e26e0"
      },
      "execution_count": 11,
      "outputs": [
        {
          "output_type": "stream",
          "name": "stdout",
          "text": [
            "selam azra\n"
          ]
        }
      ]
    },
    {
      "cell_type": "code",
      "source": [
        "def topla(a,b):\n",
        "  c=a+b\n",
        "  return c\n",
        "\n",
        "sonuc = topla(3,5)\n",
        "print(\"Sonuç: {}\".format(sonuc))"
      ],
      "metadata": {
        "colab": {
          "base_uri": "https://localhost:8080/"
        },
        "id": "qg1UJINdxD3i",
        "outputId": "2c7e0445-8ea7-46a9-fe96-b24f0b499343"
      },
      "execution_count": 19,
      "outputs": [
        {
          "output_type": "stream",
          "name": "stdout",
          "text": [
            "Sonuç: 8\n"
          ]
        }
      ]
    },
    {
      "cell_type": "code",
      "source": [
        "class Isci():\n",
        "    yas=20\n",
        "    maas=1000\n",
        "    def yasaGoreMaasOranla(self):\n",
        "        print(self.yas/self.maas)\n",
        "\n",
        "isci1=Isci()\n",
        "isci1.yasaGoreMaasOranla()\n",
        "\n",
        "def yasMaasOranı(yas,maas): #class dışı metot\n",
        "    a=yas/maas\n",
        "    #print(\"oran:\\t\",a)\n",
        "    print(\"oran:\\t {}\".format(a))\n",
        "yasMaasOranı(20,2000)"
      ],
      "metadata": {
        "colab": {
          "base_uri": "https://localhost:8080/"
        },
        "id": "wXD_Fvwfx3AF",
        "outputId": "106e7af3-6417-48e2-c20a-140515ec4caa"
      },
      "execution_count": 21,
      "outputs": [
        {
          "output_type": "stream",
          "name": "stdout",
          "text": [
            "0.02\n",
            "oran:\t 0.01\n"
          ]
        }
      ]
    },
    {
      "cell_type": "code",
      "source": [
        "class Hayvan():\n",
        "    def __init__(self,isim,yas): #yapıcı/constructor metot\n",
        "        self.isim=isim\n",
        "        self.yas=yas\n",
        "    def getYas(self):\n",
        "        return self.yas\n",
        "    def getAd(self):\n",
        "        return self.isim\n",
        "h1=Hayvan(\"dog\",2)\n",
        "h1_yas=h1.getYas()\n",
        "print(\"h1 in yaşı :\",h1_yas)\n",
        "\n",
        "h1_isim=h1.getAd()\n",
        "print(\"h1 in isim :\",h1_isim)\n",
        "\n",
        "h2=Hayvan(\"cat\",3)\n",
        "h2_yas=h2.getYas()\n",
        "print(\"h2 in yaşı :\",h2_yas)"
      ],
      "metadata": {
        "colab": {
          "base_uri": "https://localhost:8080/"
        },
        "id": "M7bWsxnM0mcZ",
        "outputId": "570e8230-99dd-4079-cb90-b030613b50fc"
      },
      "execution_count": 22,
      "outputs": [
        {
          "output_type": "stream",
          "name": "stdout",
          "text": [
            "h1 in yaşı : 2\n",
            "h1 in isim : dog\n",
            "h2 in yaşı : 3\n"
          ]
        }
      ]
    },
    {
      "cell_type": "code",
      "source": [
        "# -*- coding: utf-8 -*-\n",
        "\"\"\"\n",
        "OOP ile Hesap makinesi\n",
        "@author: msinan\n",
        "\"\"\"\n",
        "class Makine():\n",
        "    \"\"\"hesap makinesi\"\"\"\n",
        "    def __init__(self,a,b):\n",
        "        \"\"\"başlangıç değerlerini ayarlar\"\"\"\n",
        "        #öznitelik alır\n",
        "        self.deger1=a\n",
        "        self.deger2=b\n",
        "    def topla(self):\n",
        "        \"\"\" toplama a+b = sonuc -> return sonucs\"\"\"\n",
        "        sonuc=self.deger1+self.deger2\n",
        "        return sonuc\n",
        "    def carp(self):\n",
        "        \"\"\"carpma a*b= sonuc -> return sonuc\"\"\"\n",
        "        sonuc=self.deger1*self.deger2\n",
        "        return sonuc\n",
        "    def cikar(self):\n",
        "        return self.deger1-self.deger2\n",
        "    def bol(self):\n",
        "        return self.deger1/self.deger2\n",
        "x=5\n",
        "y=2\n",
        "h: Makine=Makine(x,y)\n",
        "tSonuc=h.topla()\n",
        "cSonuc=h.carp()\n",
        "print(\"toplama sonuc: {}, çarpma sonucu: {}\".format(tSonuc,cSonuc))"
      ],
      "metadata": {
        "colab": {
          "base_uri": "https://localhost:8080/"
        },
        "id": "-ySuYjRb42mJ",
        "outputId": "80ebe4e2-2cd2-45a1-d4cb-fe528e8ef366"
      },
      "execution_count": 24,
      "outputs": [
        {
          "output_type": "stream",
          "name": "stdout",
          "text": [
            "toplama sonuc: 7, çarpma sonucu: 10\n"
          ]
        }
      ]
    },
    {
      "cell_type": "code",
      "source": [
        "class Hayvanlar:\n",
        "    def __init__(self, isim):\n",
        "        self.isim = isim\n",
        "    def tepki(self):\n",
        "        raise NotImplementedError('HATA')\n",
        "class Kedi(Hayvanlar):\n",
        "    def tepki(self):\n",
        "        return 'Miyav!'\n",
        "class Kopek(Hayvanlar):\n",
        "    def tepki(self):\n",
        "        return 'Haav! Hav!'\n",
        "hayvan = [Kedi('Boncuk'),\n",
        "          Kedi('Tekir'),\n",
        "          Kopek('Elmas')]\n",
        "for hyvn in hayvan:\n",
        "    print(hyvn.isim + ': ' + hyvn.tepki())"
      ],
      "metadata": {
        "colab": {
          "base_uri": "https://localhost:8080/"
        },
        "id": "gVU28hqM4-15",
        "outputId": "39a4c1a0-1b78-4f64-a654-c4053752255d"
      },
      "execution_count": 25,
      "outputs": [
        {
          "output_type": "stream",
          "name": "stdout",
          "text": [
            "Boncuk: Miyav!\n",
            "Tekir: Miyav!\n",
            "Elmas: Haav! Hav!\n"
          ]
        }
      ]
    }
  ]
}